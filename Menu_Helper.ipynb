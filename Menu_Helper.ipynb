{
  "nbformat": 4,
  "nbformat_minor": 0,
  "metadata": {
    "colab": {
      "name": "Menu Helper.ipynb",
      "provenance": [],
      "collapsed_sections": [],
      "toc_visible": true,
      "authorship_tag": "ABX9TyOQBfCkr+/F/HPgP44dWJ65",
      "include_colab_link": true
    },
    "kernelspec": {
      "name": "python3",
      "display_name": "Python 3"
    }
  },
  "cells": [
    {
      "cell_type": "markdown",
      "metadata": {
        "id": "view-in-github",
        "colab_type": "text"
      },
      "source": [
        "<a href=\"https://colab.research.google.com/github/hervefc/NLP/blob/main/Menu_Helper.ipynb\" target=\"_parent\"><img src=\"https://colab.research.google.com/assets/colab-badge.svg\" alt=\"Open In Colab\"/></a>"
      ]
    },
    {
      "cell_type": "markdown",
      "metadata": {
        "id": "EFevlfguL0AS"
      },
      "source": [
        "# Setup\r\n",
        "\r\n",
        "Welcome to Menu Helper!\r\n",
        "\r\n",
        "This little notebook will help noobs and geeks alike to take the **recipes they love** turn them into a **list of ingredients** and ready to go grocery shopping.\r\n",
        "\r\n",
        "It's way more complicated than writing it down on paper, but it's made with code! Yay!\r\n",
        "\r\n",
        "**=')**"
      ]
    },
    {
      "cell_type": "markdown",
      "metadata": {
        "id": "JEK8SE7LOeX-"
      },
      "source": [
        "## Install Recipe Scrapers\r\n",
        "\r\n",
        "First things first, install [recipe-scrapers](https://colab.research.google.com/drive/19mQ_djq8p6hVurQahcdtEXUuCzH-6NCj#scrollTo=m0xPLDrMQ4EQ) in this notebook to have access to all its savory functionalities (mostly *scrape_me*)"
      ]
    },
    {
      "cell_type": "code",
      "metadata": {
        "colab": {
          "base_uri": "https://localhost:8080/"
        },
        "id": "rZpNYTczC1jA",
        "outputId": "8c6eb623-c7a5-4a8e-aa52-4fee5ba00075"
      },
      "source": [
        "!pip install recipe_scrapers"
      ],
      "execution_count": null,
      "outputs": [
        {
          "output_type": "stream",
          "text": [
            "Collecting recipe_scrapers\n",
            "\u001b[?25l  Downloading https://files.pythonhosted.org/packages/09/46/0ed34f58fc56c8219ff95b56fcec8cbaab2e89b1ea0c853b9566f73ca2dd/recipe_scrapers-12.0.5-py3-none-any.whl (256kB)\n",
            "\r\u001b[K     |█▎                              | 10kB 17.7MB/s eta 0:00:01\r\u001b[K     |██▌                             | 20kB 21.6MB/s eta 0:00:01\r\u001b[K     |███▉                            | 30kB 11.2MB/s eta 0:00:01\r\u001b[K     |█████                           | 40kB 8.4MB/s eta 0:00:01\r\u001b[K     |██████▍                         | 51kB 7.1MB/s eta 0:00:01\r\u001b[K     |███████▋                        | 61kB 7.2MB/s eta 0:00:01\r\u001b[K     |█████████                       | 71kB 7.3MB/s eta 0:00:01\r\u001b[K     |██████████▏                     | 81kB 8.0MB/s eta 0:00:01\r\u001b[K     |███████████▌                    | 92kB 7.9MB/s eta 0:00:01\r\u001b[K     |████████████▊                   | 102kB 6.7MB/s eta 0:00:01\r\u001b[K     |██████████████                  | 112kB 6.7MB/s eta 0:00:01\r\u001b[K     |███████████████▎                | 122kB 6.7MB/s eta 0:00:01\r\u001b[K     |████████████████▋               | 133kB 6.7MB/s eta 0:00:01\r\u001b[K     |█████████████████▉              | 143kB 6.7MB/s eta 0:00:01\r\u001b[K     |███████████████████▏            | 153kB 6.7MB/s eta 0:00:01\r\u001b[K     |████████████████████▍           | 163kB 6.7MB/s eta 0:00:01\r\u001b[K     |█████████████████████▊          | 174kB 6.7MB/s eta 0:00:01\r\u001b[K     |███████████████████████         | 184kB 6.7MB/s eta 0:00:01\r\u001b[K     |████████████████████████▎       | 194kB 6.7MB/s eta 0:00:01\r\u001b[K     |█████████████████████████▌      | 204kB 6.7MB/s eta 0:00:01\r\u001b[K     |██████████████████████████▉     | 215kB 6.7MB/s eta 0:00:01\r\u001b[K     |████████████████████████████    | 225kB 6.7MB/s eta 0:00:01\r\u001b[K     |█████████████████████████████▎  | 235kB 6.7MB/s eta 0:00:01\r\u001b[K     |██████████████████████████████▋ | 245kB 6.7MB/s eta 0:00:01\r\u001b[K     |███████████████████████████████▉| 256kB 6.7MB/s eta 0:00:01\r\u001b[K     |████████████████████████████████| 266kB 6.7MB/s \n",
            "\u001b[?25hCollecting extruct>=0.8.0\n",
            "  Downloading https://files.pythonhosted.org/packages/f9/cf/6f626d54ad6f3de1b9e1a79e4ecab5dc69c856e66968993824074510ac89/extruct-0.12.0-py2.py3-none-any.whl\n",
            "Collecting language-tags>=1.0.0\n",
            "\u001b[?25l  Downloading https://files.pythonhosted.org/packages/1a/95/e0e6cc9774db5a619e353e20c9895f228510810da82cb8cfde21bb8b9f22/language_tags-1.0.0.tar.gz (203kB)\n",
            "\u001b[K     |████████████████████████████████| 204kB 10.9MB/s \n",
            "\u001b[?25hRequirement already satisfied: beautifulsoup4>=4.6.0 in /usr/local/lib/python3.6/dist-packages (from recipe_scrapers) (4.6.3)\n",
            "Collecting tld>=0.12.3\n",
            "\u001b[?25l  Downloading https://files.pythonhosted.org/packages/fa/d8/25926779488726b4ba65407d851ecfada5596302c630a813752aa0fe0991/tld-0.12.5-py36-none-any.whl (408kB)\n",
            "\u001b[K     |████████████████████████████████| 409kB 11.9MB/s \n",
            "\u001b[?25hRequirement already satisfied: requests>=2.19.1 in /usr/local/lib/python3.6/dist-packages (from recipe_scrapers) (2.23.0)\n",
            "Collecting rdflib-jsonld\n",
            "\u001b[?25l  Downloading https://files.pythonhosted.org/packages/f5/17/45e137be0d93b70827fe5529c0400731344a978bc792193d7d9152e6dbe4/rdflib-jsonld-0.5.0.tar.gz (55kB)\n",
            "\u001b[K     |████████████████████████████████| 61kB 6.3MB/s \n",
            "\u001b[?25hCollecting jstyleson\n",
            "  Downloading https://files.pythonhosted.org/packages/5f/c1/3791e39d65c39b4e081010f2cf6f9443b7b6b9f6de63a5e458172c5c9376/jstyleson-0.0.2.tar.gz\n",
            "Collecting mf2py\n",
            "  Downloading https://files.pythonhosted.org/packages/fe/09/116b5b42f5c8cbb1cc43408be9df12fc2bf9fc408dfc9b20311ef4ffbfec/mf2py-1.1.2.tar.gz\n",
            "Collecting pyrdfa3\n",
            "\u001b[?25l  Downloading https://files.pythonhosted.org/packages/01/40/8727792baf872086867db42eedf399734b9dd2800202c9a2727dc075301b/pyRdfa3-3.5.3-py3-none-any.whl (121kB)\n",
            "\u001b[K     |████████████████████████████████| 122kB 14.2MB/s \n",
            "\u001b[?25hCollecting html-text>=0.5.1\n",
            "  Downloading https://files.pythonhosted.org/packages/e7/03/648294dbaa62e55d8622d7b0435b970ca45738498536b92e2f417e3fd531/html_text-0.5.2-py2.py3-none-any.whl\n",
            "Collecting rdflib\n",
            "\u001b[?25l  Downloading https://files.pythonhosted.org/packages/d0/6b/6454aa1db753c0f8bc265a5bd5c10b5721a4bb24160fb4faf758cf6be8a1/rdflib-5.0.0-py3-none-any.whl (231kB)\n",
            "\u001b[K     |████████████████████████████████| 235kB 16.4MB/s \n",
            "\u001b[?25hRequirement already satisfied: lxml in /usr/local/lib/python3.6/dist-packages (from extruct>=0.8.0->recipe_scrapers) (4.2.6)\n",
            "Collecting w3lib\n",
            "  Downloading https://files.pythonhosted.org/packages/a3/59/b6b14521090e7f42669cafdb84b0ab89301a42f1f1a82fcf5856661ea3a7/w3lib-1.22.0-py2.py3-none-any.whl\n",
            "Requirement already satisfied: six in /usr/local/lib/python3.6/dist-packages (from extruct>=0.8.0->recipe_scrapers) (1.15.0)\n",
            "Requirement already satisfied: chardet<4,>=3.0.2 in /usr/local/lib/python3.6/dist-packages (from requests>=2.19.1->recipe_scrapers) (3.0.4)\n",
            "Requirement already satisfied: idna<3,>=2.5 in /usr/local/lib/python3.6/dist-packages (from requests>=2.19.1->recipe_scrapers) (2.10)\n",
            "Requirement already satisfied: urllib3!=1.25.0,!=1.25.1,<1.26,>=1.21.1 in /usr/local/lib/python3.6/dist-packages (from requests>=2.19.1->recipe_scrapers) (1.24.3)\n",
            "Requirement already satisfied: certifi>=2017.4.17 in /usr/local/lib/python3.6/dist-packages (from requests>=2.19.1->recipe_scrapers) (2020.12.5)\n",
            "Requirement already satisfied: html5lib>=1.0.1 in /usr/local/lib/python3.6/dist-packages (from mf2py->extruct>=0.8.0->recipe_scrapers) (1.0.1)\n",
            "Collecting isodate\n",
            "\u001b[?25l  Downloading https://files.pythonhosted.org/packages/9b/9f/b36f7774ff5ea8e428fdcfc4bb332c39ee5b9362ddd3d40d9516a55221b2/isodate-0.6.0-py2.py3-none-any.whl (45kB)\n",
            "\u001b[K     |████████████████████████████████| 51kB 7.7MB/s \n",
            "\u001b[?25hRequirement already satisfied: pyparsing in /usr/local/lib/python3.6/dist-packages (from rdflib->extruct>=0.8.0->recipe_scrapers) (2.4.7)\n",
            "Requirement already satisfied: webencodings in /usr/local/lib/python3.6/dist-packages (from html5lib>=1.0.1->mf2py->extruct>=0.8.0->recipe_scrapers) (0.5.1)\n",
            "Building wheels for collected packages: language-tags, rdflib-jsonld, jstyleson, mf2py\n",
            "  Building wheel for language-tags (setup.py) ... \u001b[?25l\u001b[?25hdone\n",
            "  Created wheel for language-tags: filename=language_tags-1.0.0-py2.py3-none-any.whl size=209134 sha256=26e9b2afb210cf1be20d18ab92f998cd6a224faa63e5d97c2db46ca1b6a6e39e\n",
            "  Stored in directory: /root/.cache/pip/wheels/54/ad/80/7f945177b0fa71d82335e5f0879c1d680d83184502bfce18a8\n",
            "  Building wheel for rdflib-jsonld (setup.py) ... \u001b[?25l\u001b[?25hdone\n",
            "  Created wheel for rdflib-jsonld: filename=rdflib_jsonld-0.5.0-py2.py3-none-any.whl size=15348 sha256=efdcf69db0b02e1e2d9ff6363389f34799d97b5bfbfae9af402ff65f2bf6de81\n",
            "  Stored in directory: /root/.cache/pip/wheels/8d/e4/7f/9ebcb3e400c694e645c3adba40ef3e9bda78384ac3b9b0d13d\n",
            "  Building wheel for jstyleson (setup.py) ... \u001b[?25l\u001b[?25hdone\n",
            "  Created wheel for jstyleson: filename=jstyleson-0.0.2-cp36-none-any.whl size=2402 sha256=9c47534c65634caae763122d21f12e4bab6c39cc8c7c8df33102b358469f4ed0\n",
            "  Stored in directory: /root/.cache/pip/wheels/23/ac/3c/5c3d2849c2c9937c1d602b7ba099817c11bc5215abcd07ba4d\n",
            "  Building wheel for mf2py (setup.py) ... \u001b[?25l\u001b[?25hdone\n",
            "  Created wheel for mf2py: filename=mf2py-1.1.2-cp36-none-any.whl size=23245 sha256=5ec6ea1f5082f98b900f618b080af0cb3c1e38e1116ecf6b2b373d1bb4ce5d9e\n",
            "  Stored in directory: /root/.cache/pip/wheels/7e/50/a1/7cd28816aacb3aac8185cd1184f5518fa5daae0484dc3674b4\n",
            "Successfully built language-tags rdflib-jsonld jstyleson mf2py\n",
            "Installing collected packages: isodate, rdflib, rdflib-jsonld, jstyleson, mf2py, pyrdfa3, html-text, w3lib, extruct, language-tags, tld, recipe-scrapers\n",
            "Successfully installed extruct-0.12.0 html-text-0.5.2 isodate-0.6.0 jstyleson-0.0.2 language-tags-1.0.0 mf2py-1.1.2 pyrdfa3-3.5.3 rdflib-5.0.0 rdflib-jsonld-0.5.0 recipe-scrapers-12.0.5 tld-0.12.5 w3lib-1.22.0\n"
          ],
          "name": "stdout"
        }
      ]
    },
    {
      "cell_type": "markdown",
      "metadata": {
        "id": "gUmOJFvELwCO"
      },
      "source": [
        "## Imports"
      ]
    },
    {
      "cell_type": "code",
      "metadata": {
        "id": "EmIjxfalHR7b"
      },
      "source": [
        "from recipe_scrapers import scrape_me\r\n",
        "import re"
      ],
      "execution_count": null,
      "outputs": []
    },
    {
      "cell_type": "code",
      "metadata": {
        "id": "_NVhmzAXcbkw"
      },
      "source": [
        "import csv"
      ],
      "execution_count": null,
      "outputs": []
    },
    {
      "cell_type": "markdown",
      "metadata": {
        "id": "c_0XyNH_LqPi"
      },
      "source": [
        "# Menu\r\n",
        "\r\n",
        "See dictionary below with menu ideas and recipe URLs.\r\n"
      ]
    },
    {
      "cell_type": "code",
      "metadata": {
        "id": "iplk3qwJMTVx"
      },
      "source": [
        "menu_dict = {\r\n",
        "    'Veggie Cheeseburger' : 'https://www.ricardocuisine.com/en/recipes/7567-veggie-cheeseburgers',\r\n",
        "    'Pad Thai' : 'https://www.ricardocuisine.com/recherche/mot-cle/pad%20thai%20(the%20best)'\r\n",
        "    }"
      ],
      "execution_count": null,
      "outputs": []
    },
    {
      "cell_type": "markdown",
      "metadata": {
        "id": "q6907AmXci9b"
      },
      "source": [
        "Import a menu from CSV"
      ]
    },
    {
      "cell_type": "code",
      "metadata": {
        "colab": {
          "base_uri": "https://localhost:8080/",
          "height": 131
        },
        "id": "yV3E_VZNcoie",
        "outputId": "cec41ef0-4d66-44b9-fcfc-49afbb29a315"
      },
      "source": [
        "with open('C:\\Users\\Maud\\Downloads\\menu.csv', newline='') as csvfile:\r\n",
        "  reader = csv.DictReader(csvfile)\r\n",
        "  for row in reader:\r\n",
        "    print(row['recette'], row['lien'])"
      ],
      "execution_count": null,
      "outputs": [
        {
          "output_type": "error",
          "ename": "SyntaxError",
          "evalue": "ignored",
          "traceback": [
            "\u001b[0;36m  File \u001b[0;32m\"<ipython-input-90-bd686b7b83f7>\"\u001b[0;36m, line \u001b[0;32m1\u001b[0m\n\u001b[0;31m    reader = csv.DictReader('C:\\Users\\Maud\\Downloads\\menu.csv')\u001b[0m\n\u001b[0m                           ^\u001b[0m\n\u001b[0;31mSyntaxError\u001b[0m\u001b[0;31m:\u001b[0m (unicode error) 'unicodeescape' codec can't decode bytes in position 2-3: truncated \\UXXXXXXXX escape\n"
          ]
        }
      ]
    },
    {
      "cell_type": "code",
      "metadata": {
        "id": "iR49QSsmcrrT"
      },
      "source": [
        ""
      ],
      "execution_count": null,
      "outputs": []
    },
    {
      "cell_type": "markdown",
      "metadata": {
        "id": "5EwwD_Uy8u5m"
      },
      "source": [
        "## Add item to menu"
      ]
    },
    {
      "cell_type": "code",
      "metadata": {
        "colab": {
          "base_uri": "https://localhost:8080/"
        },
        "id": "lVIPnXcV82vN",
        "outputId": "fb1d60b8-1a7b-46eb-bcc2-b63fbc894cf7"
      },
      "source": [
        "# Function to add item to Menu Dictionary\r\n",
        "\r\n",
        "def add2Menu(menu):\r\n",
        "# def add2Menu(menu):  \r\n",
        "  key = input('what is the name of your recipe: ')\r\n",
        "  value = input('paste URL for your favorite recipe: ')\r\n",
        "  menu[key] = value\r\n",
        "  # Make sure there was no mistake while inputting\r\n",
        "  print(\"You entered \\n   {} : {} \\nDo you really want to add this to our Menu?\\n\".format(key, value))\r\n",
        "  checking = input('[y]es / [n]o :')\r\n",
        "  if checking == 'n':\r\n",
        "    print(\"It's ok, you can try again\")\r\n",
        "  elif checking == 'y':\r\n",
        "    print(menu)\r\n",
        "  else:\r\n",
        "    print(\"Invalid entry\")"
      ],
      "execution_count": null,
      "outputs": [
        {
          "output_type": "stream",
          "text": [
            "what is the name of your recipe: foo\n",
            "paste URL for your favorite recipe: bar\n",
            "You entered \n",
            "   foo : bar \n",
            "Do you really want to add this to our Menu?\n",
            "\n",
            "[y]es / [n]o :y\n",
            "{'hello': 'world', 'foo': 'bar'}\n"
          ],
          "name": "stdout"
        }
      ]
    },
    {
      "cell_type": "code",
      "metadata": {
        "colab": {
          "base_uri": "https://localhost:8080/"
        },
        "id": "dGQlSdXsY2d1",
        "outputId": "7b4377d4-577c-4d87-ee6c-723b954c0ac0"
      },
      "source": [
        "add2Menu(menu_dict)"
      ],
      "execution_count": null,
      "outputs": [
        {
          "output_type": "stream",
          "text": [
            "what is the name of your recipe: Burgers haricots noirs\n",
            "paste URL for your favorite recipe: https://www.ricardocuisine.com/recettes/7893-vege-burger-aux-haricots-noirs-chermoula-et-champignons\n",
            "You entered \n",
            "   Burgers haricots noirs : https://www.ricardocuisine.com/recettes/7893-vege-burger-aux-haricots-noirs-chermoula-et-champignons \n",
            "Do you really want to add this to our Menu?\n",
            "\n",
            "[y]es / [n]o :y\n",
            "{'Veggie Cheeseburger': 'https://www.ricardocuisine.com/en/recipes/7567-veggie-cheeseburgers', 'Pad Thai': 'https://www.ricardocuisine.com/recherche/mot-cle/pad%20thai%20(the%20best)', 'Burgers haricots noirs': 'https://www.ricardocuisine.com/recettes/7893-vege-burger-aux-haricots-noirs-chermoula-et-champignons'}\n"
          ],
          "name": "stdout"
        }
      ]
    },
    {
      "cell_type": "code",
      "metadata": {
        "colab": {
          "base_uri": "https://localhost:8080/",
          "height": 450
        },
        "id": "F85Km_OBCar-",
        "outputId": "4195140a-9ad8-428f-b067-c7f17903dec5"
      },
      "source": [
        "for key, value in menu_dict.items():\r\n",
        "  scrapeAway(value)"
      ],
      "execution_count": null,
      "outputs": [
        {
          "output_type": "error",
          "ename": "NoSchemaFoundInWildMode",
          "evalue": "ignored",
          "traceback": [
            "\u001b[0;31m---------------------------------------------------------------------------\u001b[0m",
            "\u001b[0;31mKeyError\u001b[0m                                  Traceback (most recent call last)",
            "\u001b[0;32m/usr/local/lib/python3.6/dist-packages/recipe_scrapers/__init__.py\u001b[0m in \u001b[0;36mscrape_me\u001b[0;34m(url_path, **options)\u001b[0m\n\u001b[1;32m    325\u001b[0m     \u001b[0;32mtry\u001b[0m\u001b[0;34m:\u001b[0m\u001b[0;34m\u001b[0m\u001b[0;34m\u001b[0m\u001b[0m\n\u001b[0;32m--> 326\u001b[0;31m         \u001b[0mscraper\u001b[0m \u001b[0;34m=\u001b[0m \u001b[0mSCRAPERS\u001b[0m\u001b[0;34m[\u001b[0m\u001b[0mhost_name\u001b[0m\u001b[0;34m]\u001b[0m\u001b[0;34m\u001b[0m\u001b[0;34m\u001b[0m\u001b[0m\n\u001b[0m\u001b[1;32m    327\u001b[0m     \u001b[0;32mexcept\u001b[0m \u001b[0mKeyError\u001b[0m\u001b[0;34m:\u001b[0m\u001b[0;34m\u001b[0m\u001b[0;34m\u001b[0m\u001b[0m\n",
            "\u001b[0;31mKeyError\u001b[0m: 'ricardocuisine.com'",
            "\nDuring handling of the above exception, another exception occurred:\n",
            "\u001b[0;31mNoSchemaFoundInWildMode\u001b[0m                   Traceback (most recent call last)",
            "\u001b[0;32m<ipython-input-24-5fb4d1439a85>\u001b[0m in \u001b[0;36m<module>\u001b[0;34m()\u001b[0m\n\u001b[1;32m      1\u001b[0m \u001b[0;32mfor\u001b[0m \u001b[0mkey\u001b[0m\u001b[0;34m,\u001b[0m \u001b[0mvalue\u001b[0m \u001b[0;32min\u001b[0m \u001b[0mmenu_dict\u001b[0m\u001b[0;34m.\u001b[0m\u001b[0mitems\u001b[0m\u001b[0;34m(\u001b[0m\u001b[0;34m)\u001b[0m\u001b[0;34m:\u001b[0m\u001b[0;34m\u001b[0m\u001b[0;34m\u001b[0m\u001b[0m\n\u001b[0;32m----> 2\u001b[0;31m   \u001b[0mscrapeAway\u001b[0m\u001b[0;34m(\u001b[0m\u001b[0mvalue\u001b[0m\u001b[0;34m)\u001b[0m\u001b[0;34m\u001b[0m\u001b[0;34m\u001b[0m\u001b[0m\n\u001b[0m",
            "\u001b[0;32m<ipython-input-15-4012a757060d>\u001b[0m in \u001b[0;36mscrapeAway\u001b[0;34m(recipeUrl, *argv)\u001b[0m\n\u001b[1;32m     17\u001b[0m \u001b[0;34m\u001b[0m\u001b[0m\n\u001b[1;32m     18\u001b[0m \u001b[0;32mdef\u001b[0m \u001b[0mscrapeAway\u001b[0m\u001b[0;34m(\u001b[0m\u001b[0mrecipeUrl\u001b[0m\u001b[0;34m,\u001b[0m \u001b[0;34m*\u001b[0m\u001b[0margv\u001b[0m\u001b[0;34m)\u001b[0m\u001b[0;34m:\u001b[0m\u001b[0;34m\u001b[0m\u001b[0;34m\u001b[0m\u001b[0m\n\u001b[0;32m---> 19\u001b[0;31m   \u001b[0mscraper\u001b[0m \u001b[0;34m=\u001b[0m \u001b[0mscrape_me\u001b[0m\u001b[0;34m(\u001b[0m\u001b[0mrecipeUrl\u001b[0m\u001b[0;34m,\u001b[0m \u001b[0mwild_mode\u001b[0m\u001b[0;34m=\u001b[0m\u001b[0;32mTrue\u001b[0m\u001b[0;34m)\u001b[0m\u001b[0;34m\u001b[0m\u001b[0;34m\u001b[0m\u001b[0m\n\u001b[0m\u001b[1;32m     20\u001b[0m   \u001b[0mingredient_list\u001b[0m \u001b[0;34m=\u001b[0m \u001b[0;34m[\u001b[0m\u001b[0;34m]\u001b[0m\u001b[0;34m\u001b[0m\u001b[0;34m\u001b[0m\u001b[0m\n\u001b[1;32m     21\u001b[0m   \u001b[0;32mfor\u001b[0m \u001b[0mi\u001b[0m \u001b[0;32min\u001b[0m \u001b[0mscraper\u001b[0m\u001b[0;34m.\u001b[0m\u001b[0mingredients\u001b[0m\u001b[0;34m(\u001b[0m\u001b[0;34m)\u001b[0m\u001b[0;34m:\u001b[0m\u001b[0;34m\u001b[0m\u001b[0;34m\u001b[0m\u001b[0m\n",
            "\u001b[0;32m/usr/local/lib/python3.6/dist-packages/recipe_scrapers/__init__.py\u001b[0m in \u001b[0;36mscrape_me\u001b[0;34m(url_path, **options)\u001b[0m\n\u001b[1;32m    329\u001b[0m             \u001b[0mwild_scraper\u001b[0m \u001b[0;34m=\u001b[0m \u001b[0mSchemaScraperFactory\u001b[0m\u001b[0;34m.\u001b[0m\u001b[0mgenerate\u001b[0m\u001b[0;34m(\u001b[0m\u001b[0murl_path\u001b[0m\u001b[0;34m,\u001b[0m \u001b[0;34m**\u001b[0m\u001b[0moptions\u001b[0m\u001b[0;34m)\u001b[0m\u001b[0;34m\u001b[0m\u001b[0;34m\u001b[0m\u001b[0m\n\u001b[1;32m    330\u001b[0m             \u001b[0;32mif\u001b[0m \u001b[0;32mnot\u001b[0m \u001b[0mwild_scraper\u001b[0m\u001b[0;34m.\u001b[0m\u001b[0mschema\u001b[0m\u001b[0;34m.\u001b[0m\u001b[0mdata\u001b[0m\u001b[0;34m:\u001b[0m\u001b[0;34m\u001b[0m\u001b[0;34m\u001b[0m\u001b[0m\n\u001b[0;32m--> 331\u001b[0;31m                 \u001b[0;32mraise\u001b[0m \u001b[0mNoSchemaFoundInWildMode\u001b[0m\u001b[0;34m(\u001b[0m\u001b[0murl_path\u001b[0m\u001b[0;34m)\u001b[0m\u001b[0;34m\u001b[0m\u001b[0;34m\u001b[0m\u001b[0m\n\u001b[0m\u001b[1;32m    332\u001b[0m             \u001b[0;32mreturn\u001b[0m \u001b[0mwild_scraper\u001b[0m\u001b[0;34m\u001b[0m\u001b[0;34m\u001b[0m\u001b[0m\n\u001b[1;32m    333\u001b[0m         \u001b[0;32melse\u001b[0m\u001b[0;34m:\u001b[0m\u001b[0;34m\u001b[0m\u001b[0;34m\u001b[0m\u001b[0m\n",
            "\u001b[0;31mNoSchemaFoundInWildMode\u001b[0m: No Recipe Schema found at https://www.ricardocuisine.com/recherche/mot-cle/pad%20thai%20(the%20best)"
          ]
        }
      ]
    },
    {
      "cell_type": "markdown",
      "metadata": {
        "id": "ZctYlihF9weZ"
      },
      "source": [
        "## Print Menu"
      ]
    },
    {
      "cell_type": "code",
      "metadata": {
        "id": "sTENNk_XRBLy"
      },
      "source": [
        "# Make a function to print menu with index number for recipe compiling function\r\n",
        "\r\n",
        "def printDict(dict):\r\n",
        "  count = 0\r\n",
        "  for key in sorted(dict):\r\n",
        "    count += 1\r\n",
        "    print(str(count), \".\", key, ': ', dict[key])"
      ],
      "execution_count": null,
      "outputs": []
    },
    {
      "cell_type": "code",
      "metadata": {
        "colab": {
          "base_uri": "https://localhost:8080/"
        },
        "id": "zomuwad4UmL5",
        "outputId": "bac28d77-b79e-4769-8bee-73ee34eae8c9"
      },
      "source": [
        "printDict(menu_dict)"
      ],
      "execution_count": null,
      "outputs": [
        {
          "output_type": "stream",
          "text": [
            "1 . Pad Thai :  https://www.ricardocuisine.com/recherche/mot-cle/pad%20thai%20(the%20best)\n",
            "2 . Veggie Cheeseburger :  https://www.ricardocuisine.com/en/recipes/7567-veggie-cheeseburgers\n"
          ],
          "name": "stdout"
        }
      ]
    },
    {
      "cell_type": "markdown",
      "metadata": {
        "id": "g5kj52sA_fTK"
      },
      "source": [
        "# Make your ingredient list\r\n",
        "1. Define functions\r\n",
        "2. Print and export ingredients"
      ]
    },
    {
      "cell_type": "markdown",
      "metadata": {
        "id": "5vjUP8r9_rJV"
      },
      "source": [
        "## 1. Define/Play around with functions"
      ]
    },
    {
      "cell_type": "code",
      "metadata": {
        "id": "m0xPLDrMQ4EQ"
      },
      "source": [
        "scraper = scrape_me('https://www.ricardocuisine.com/en/recipes/6694-pad-thai-the-best', wild_mode=True)\r\n",
        "\r\n",
        "ingredient = '3/4 lb (340 g) skinless boneless chicken thighs, thinly sliced'\r\n",
        "filter = re.match(\"\\d\\D?\\d\\s?\\w+\\s\\(\\d+\\s\\w+\\)|\\d\\s((tbsp|tsp|cup|cups)\\s)?(\\(\\d+\\s\\w+\\))?\", ingredient)\r\n",
        "en_clean_string = \"\\d\\D?\\d\\s?\\w+\\s\\(\\d+\\s\\w+\\)|\\d\\s((tbsp|tsp|cup|cups)\\s)?(\\(\\d+\\s\\w+\\))?\"\r\n",
        "\r\n",
        "# add fr cleaning string for regex\r\n",
        "fr_clean_string = \"\"\r\n",
        "\r\n",
        "# Reality Check\r\n",
        "# print(filter.group())\r\n",
        "\r\n",
        "splitted = re.split(\"\\d\\D?\\d\\s?\\w+\\s\\(\\d+\\s\\w+\\)|\\d\\s((tbsp|tsp|cup|cups)\\s)?(\\(\\d+\\s\\w+\\))?\", ingredient)\r\n",
        "\r\n",
        "# Reality check\r\n",
        "# print(\"split() result : \" + splitted[-1])\r\n",
        "\r\n",
        "def cleanUpIngredient(ingredient):\r\n",
        "  split_list = re.split(en_clean_string, ingredient)\r\n",
        "  return split_list[-1]\r\n",
        "\r\n",
        "# Reality check\r\n",
        "# print('func result : ' + cleanUpIngredient(ingredient))"
      ],
      "execution_count": null,
      "outputs": []
    },
    {
      "cell_type": "code",
      "metadata": {
        "id": "UQFXBjCaBf2e",
        "colab": {
          "base_uri": "https://localhost:8080/",
          "height": 70
        },
        "outputId": "ba78d1b9-e859-4be1-8ac0-4e34f38d7271"
      },
      "source": [
        "def cleanUpIngredient(ingredient):\r\n",
        "  split_list = re.split(en_clean_string, ingredient)\r\n",
        "  return split_list[-1]\r\n",
        "\r\n",
        "def scrapeAway(recipeUrl, *argv):\r\n",
        "  scraper = scrape_me(recipeUrl, wild_mode=True)\r\n",
        "  ingredient_list = []\r\n",
        "  for i in scraper.ingredients():\r\n",
        "    if cleanUpIngredient(i) not in ingredient_list:\r\n",
        "      ingredient_list.append(cleanUpIngredient(i))\r\n",
        "    else:\r\n",
        "      continue\r\n",
        "  for arg in argv:\r\n",
        "    for j in scrape_me(arg, wild_mode=True).ingredients():\r\n",
        "      if cleanUpIngredient(j) not in ingredient_list:\r\n",
        "        ingredient_list.append(cleanUpIngredient(j))\r\n",
        "      else:\r\n",
        "        continue\r\n",
        "  return sorted(ingredient_list)\r\n",
        "\r\n",
        "def makeMyList(recipeUrl, *argv):\r\n",
        "  scraper = scrape_me(recipeUrl, wild_mode=True)\r\n",
        "  ingredient_list = []\r\n",
        "  for i in scraper.ingredients():\r\n",
        "    if cleanUpIngredient(i) not in ingredient_list:\r\n",
        "      ingredient_list.append(cleanUpIngredient(i))\r\n",
        "    else:\r\n",
        "      continue\r\n",
        "  for arg in argv:\r\n",
        "    for j in scrape_me(arg, wild_mode=True).ingredients():\r\n",
        "      if cleanUpIngredient(j) not in ingredient_list:\r\n",
        "        ingredient_list.append(cleanUpIngredient(j))\r\n",
        "      else:\r\n",
        "        continue\r\n",
        "  for i in sorted(ingredient_list):\r\n",
        "    print(i.split(',')[0].title())\r\n",
        "\r\n",
        "####################\r\n",
        "### Aspirational ###\r\n",
        "####################\r\n",
        "\r\n",
        "def checkName(ingredientList):\r\n",
        "# change name_list to main_ingredient_list\r\n",
        "# https://github.com/kbrohkahn/recipe-parser/blob/master/allIngredients.txt\r\n",
        "  name_list = ['chicken', 'lime']\r\n",
        "  new_list = []\r\n",
        "  for l in ingredientList:\r\n",
        "    l.split()\r\n",
        "    for j in l.split():\r\n",
        "      if j in name_list:\r\n",
        "        new_list.append(j.title())\r\n",
        "      else:\r\n",
        "        continue\r\n",
        "  return new_list\r\n",
        "\r\n",
        "# Write a function to retrieve n-th recipe (key) and scrape related URL (value)\r\n",
        "\r\n",
        "\"\"\"\r\n",
        "def get_nth_key(dictionary, n=0):\r\n",
        "    if n < 0:\r\n",
        "        n += len(dictionary)\r\n",
        "    for i, key in enumerate(dictionary.keys()):\r\n",
        "        if i == n:\r\n",
        "            return key\r\n",
        "    raise IndexError(\"dictionary index out of range\") \r\n",
        "\r\n",
        "\"\"\""
      ],
      "execution_count": null,
      "outputs": [
        {
          "output_type": "execute_result",
          "data": {
            "application/vnd.google.colaboratory.intrinsic+json": {
              "type": "string"
            },
            "text/plain": [
              "'\\nAspirational\\n\\n# Write a function to retrieve n-th recipe (key) and scrape related URL (value)\\n\\ndef get_nth_key(dictionary, n=0):\\n    if n < 0:\\n        n += len(dictionary)\\n    for i, key in enumerate(dictionary.keys()):\\n        if i == n:\\n            return key\\n    raise IndexError(\"dictionary index out of range\") \\n\\n'"
            ]
          },
          "metadata": {
            "tags": []
          },
          "execution_count": 15
        }
      ]
    },
    {
      "cell_type": "markdown",
      "metadata": {
        "id": "DiQRrN_IAOV0"
      },
      "source": [
        "## 2. Print and export ingredient list\r\n",
        "\r\n",
        "Print your list of ingredients and copy paste in Google Keep before going grocery shopping\r\n",
        "\r\n",
        "## =')"
      ]
    },
    {
      "cell_type": "markdown",
      "metadata": {
        "id": "_auqPAaVPHfA"
      },
      "source": [
        "### How to use makeMyList()\r\n",
        "\r\n",
        "Use this function, plugging the URLs of your favorite recipes as arguments to print your grocery shopping list!\r\n",
        "\r\n",
        "Copy-paste this list in your [favorite notetaking app](https://keep.google.com/) !\r\n",
        "\r\n",
        "= ' )"
      ]
    },
    {
      "cell_type": "code",
      "metadata": {
        "colab": {
          "base_uri": "https://localhost:8080/"
        },
        "id": "H7m0kmV1O-6_",
        "outputId": "76e2ee1b-efc3-487a-db38-7d427d053661"
      },
      "source": [
        "makeMyList('https://www.ricardocuisine.com/en/recipes/6694-pad-thai-the-best', 'https://www.ricardocuisine.com/en/recipes/7567-veggie-cheeseburgers')"
      ],
      "execution_count": null,
      "outputs": [
        {
          "output_type": "stream",
          "text": [
            " Sriracha\n",
            " Bean Sprouts\n",
            " Canola Oil\n",
            " Firm Tofu\n",
            " Fish Sauce (Nuoc Mam)\n",
            " Flat Rice Noodles\n",
            " Ground Roasted Peanuts\n",
            " Lime Juice\n",
            " Mayonnaise\n",
            " Olive Oil\n",
            " Plain Greek Yogurt\n",
            " Skinless Boneless Chicken Thighs\n",
            " Thick\n",
            " Water\n",
            "Boston Lettuce Leaves\n",
            "Salt And Pepper\n",
            "Cane Or Brown Sugar\n",
            "Chopped Fresh Chives\n",
            "Cloves Garlic\n",
            "Eggs\n",
            "Hamburger Buns\n",
            "Lemon\n",
            "Lime\n",
            "Ml)\n",
            "Salt\n",
            "Shallots\n",
            "Slices)\n",
            "Small Red Onion\n",
            "Sugar\n",
            "Sweet Paprika\n",
            "Tomato\n"
          ],
          "name": "stdout"
        }
      ]
    },
    {
      "cell_type": "markdown",
      "metadata": {
        "id": "TtRMNx4gPLTy"
      },
      "source": [
        "### How to Use scrapeAway()\r\n",
        "\r\n",
        "Don't use scrapeAway()\r\n"
      ]
    },
    {
      "cell_type": "code",
      "metadata": {
        "id": "4LKklQTzC6mX",
        "colab": {
          "base_uri": "https://localhost:8080/"
        },
        "outputId": "aa6f6845-3474-4b96-de3a-d3657b7a76dc"
      },
      "source": [
        "ma_liste = scrapeAway('https://www.ricardocuisine.com/en/recipes/6694-pad-thai-the-best', 'https://www.ricardocuisine.com/en/recipes/7567-veggie-cheeseburgers')\r\n",
        "\r\n",
        "for i in ma_liste:\r\n",
        "  print(i.split(',')[0].title())\r\n",
        "\r\n",
        "# print(checkName(ma_liste))"
      ],
      "execution_count": null,
      "outputs": [
        {
          "output_type": "stream",
          "text": [
            " Sriracha\n",
            " Bean Sprouts\n",
            " Canola Oil\n",
            " Firm Tofu\n",
            " Fish Sauce (Nuoc Mam)\n",
            " Flat Rice Noodles\n",
            " Ground Roasted Peanuts\n",
            " Lime Juice\n",
            " Mayonnaise\n",
            " Olive Oil\n",
            " Plain Greek Yogurt\n",
            " Skinless Boneless Chicken Thighs\n",
            " Thick\n",
            " Water\n",
            "Boston Lettuce Leaves\n",
            "Salt And Pepper\n",
            "Cane Or Brown Sugar\n",
            "Chopped Fresh Chives\n",
            "Cloves Garlic\n",
            "Eggs\n",
            "Hamburger Buns\n",
            "Lemon\n",
            "Lime\n",
            "Ml)\n",
            "Salt\n",
            "Shallots\n",
            "Slices)\n",
            "Small Red Onion\n",
            "Sugar\n",
            "Sweet Paprika\n",
            "Tomato\n"
          ],
          "name": "stdout"
        }
      ]
    }
  ]
}